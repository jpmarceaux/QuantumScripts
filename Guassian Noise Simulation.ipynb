{
 "cells": [
  {
   "cell_type": "code",
   "execution_count": 2,
   "metadata": {},
   "outputs": [],
   "source": [
    "import numpy as np\n",
    "import qutip as qt\n",
    "import matplotlib as mpl\n",
    "import matplotlib.pyplot as plt\n",
    "from matplotlib import cm\n",
    "from mpl_toolkits.mplot3d import Axes3D\n",
    "from ipywidgets import interact, interactive, fixed, interact_manual, FloatSlider\n",
    "import ipywidgets as widgets\n",
    "import random\n",
    "%matplotlib inline"
   ]
  },
  {
   "cell_type": "markdown",
   "metadata": {},
   "source": [
    "# Gaussian Noise simulation\n",
    "\n",
    "Define a hamiltonian as \n",
    "$$\n",
    "    H(t) = - \\frac{1}{2} \\omega \\sigma_z - \\frac{1}{2} Z_t \\sigma_z, \n",
    "$$\n",
    "where $Z_t$ is a Gaussian random variable $Z_t \\sim \\mathcal{N}(\\mu, s^2)$\n",
    "\n",
    "We solve the von-nueman equation\n",
    "$$\n",
    "    \\dot{\\rho} = -i [H(t), \\rho],\n",
    "$$\n",
    "\n",
    "where $\\rho$ is an input pure state and the frequency $f = \\omega/2\\pi$ and the mean $\\mu$ and standard deviation $s$ of $Z_t$ are degrees of freedom. "
   ]
  },
  {
   "cell_type": "code",
   "execution_count": 22,
   "metadata": {},
   "outputs": [],
   "source": [
    "def H(t, freq, samples):\n",
    "    \"\"\"\n",
    "    return H given a time, frequency, and a list of samples of Z_t\n",
    "    \"\"\"\n",
    "    return (-np.pi*freq*qt.sigmaz() - 0.5*samples[int(t)]*qt.sigmaz())\n",
    "\n",
    "def CBz(t, ain):\n",
    "    \"\"\"\n",
    "    callback functino for qt.mesolve \n",
    "    \"\"\"\n",
    "    return H(t, ain[0], ain[1])\n",
    "\n",
    "\n",
    "def SolveAndPlot(T, alpha, phi, freq, mu, sd):\n",
    "    \"\"\"\n",
    "    Solve the von Neuman equation for gaussian phase noise with provided parameters \n",
    "    \"\"\"\n",
    "    # time vector\n",
    "    tvec = np.arange(0,T)\n",
    "    \n",
    "    # sample Gaussian distribution\n",
    "    samples = []\n",
    "    for _ in tvec:\n",
    "        samples.append(random.gauss(mu, sd))\n",
    "    \n",
    "    # calculate \\psi_0\n",
    "    beta = np.sqrt(1-alpha**2)\n",
    "    psi0 = alpha*qt.basis(2,0) + beta*np.exp(-1j*2*np.pi*phi/360)*qt.basis(2,1)\n",
    "\n",
    "    # solve\n",
    "    ExpVec = qt.mesolve(CBz, psi0, tvec, [], [qt.sigmax(), qt.sigmay(), qt.sigmaz()], args=(freq, samples))\n",
    "    PsiVec = qt.mesolve(CBz, psi0, tvec, [], [], args=(freq, samples))\n",
    "    \n",
    "    # plot\n",
    "    fig, ax = plt.subplots()\n",
    "    ax.plot(ExpVec.expect[0]);\n",
    "    ax.plot(ExpVec.expect[1]);\n",
    "    ax.plot(ExpVec.expect[2]);\n",
    "    ax.set_xlabel('Time');\n",
    "    ax.set_ylabel('Expectation values');\n",
    "    ax.legend((\"Sigma-X\", \"Sigma-Y\", \"Sigma-Z\"));\n",
    "    # ax.set_box_aspect((1, 1, 1)) \n",
    "    # ax = a3.Axes3D(plt.figure(figsize=(15,15))) \n",
    "    plt.show(fig)\n",
    "\n",
    "    # Bloch plots \n",
    "    b = qt.Bloch()\n",
    "    nrm = mpl.colors.Normalize(0,T)\n",
    "    colors = cm.cool(nrm(tvec))\n",
    "    b.vector_color = list(colors)\n",
    "    for s in PsiVec.states:\n",
    "        b.add_states(s)\n",
    "\n",
    "    b.show()"
   ]
  },
  {
   "cell_type": "code",
   "execution_count": 23,
   "metadata": {},
   "outputs": [
    {
     "data": {
      "application/vnd.jupyter.widget-view+json": {
       "model_id": "e89c63cc18534af48dd5e692ad99747f",
       "version_major": 2,
       "version_minor": 0
      },
      "text/plain": [
       "interactive(children=(FloatSlider(value=1.0, description='T', min=1.0, step=1.0), FloatSlider(value=0.0, descr…"
      ]
     },
     "metadata": {},
     "output_type": "display_data"
    },
    {
     "data": {
      "text/plain": [
       "<function __main__.SolveAndPlot(T, alpha, phi, freq, mu, sd)>"
      ]
     },
     "execution_count": 23,
     "metadata": {},
     "output_type": "execute_result"
    }
   ],
   "source": [
    "_T = FloatSlider(min=1, max=100, step=1)\n",
    "_DeltaT = FloatSlider(min=1, max=400, step=1)\n",
    "\n",
    "_alpha = FloatSlider(min=0, max=1, step=0.05)\n",
    "_phi = FloatSlider(min=0, max=360, step=1)\n",
    "_freq = FloatSlider(min=0, max=300, step=0.5)\n",
    "_mu = FloatSlider(min=-20, max=20, step=1)\n",
    "_sd = FloatSlider(min=0, max=10, step=0.5)\n",
    "\n",
    "\n",
    "interact_manual(SolveAndPlot, T=_T, DeltaT=_DeltaT, alpha=_alpha, phi=_phi, freq=_freq, mu=_mu, sd=_sd)"
   ]
  },
  {
   "cell_type": "code",
   "execution_count": null,
   "metadata": {},
   "outputs": [],
   "source": []
  }
 ],
 "metadata": {
  "kernelspec": {
   "display_name": "Python 3",
   "language": "python",
   "name": "python3"
  },
  "language_info": {
   "codemirror_mode": {
    "name": "ipython",
    "version": 3
   },
   "file_extension": ".py",
   "mimetype": "text/x-python",
   "name": "python",
   "nbconvert_exporter": "python",
   "pygments_lexer": "ipython3",
   "version": "3.8.5"
  }
 },
 "nbformat": 4,
 "nbformat_minor": 4
}
