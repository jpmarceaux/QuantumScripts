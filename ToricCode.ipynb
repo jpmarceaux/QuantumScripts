{
 "cells": [
  {
   "cell_type": "code",
   "execution_count": 18,
   "id": "1eaf10eb-13d4-4836-861e-2d935dc34470",
   "metadata": {},
   "outputs": [
    {
     "name": "stdout",
     "output_type": "stream",
     "text": [
      "ToricCode(7, 7)\n",
      "DepolarizingErrorModel()\n",
      "ToricMWPMDecoder()\n"
     ]
    }
   ],
   "source": [
    "#%run qsu.ipynb  # color-printing functions\n",
    "import numpy as np\n",
    "from qecsim import paulitools as pt\n",
    "from qecsim.models.generic import DepolarizingErrorModel\n",
    "from qecsim.models.toric import ToricCode, ToricMWPMDecoder\n",
    "\n",
    "# initialise models\n",
    "my_code = ToricCode(7, 7)\n",
    "my_error_model = DepolarizingErrorModel()\n",
    "my_decoder = ToricMWPMDecoder()\n",
    "# print models\n",
    "print(my_code)\n",
    "print(my_error_model)\n",
    "print(my_decoder)"
   ]
  },
  {
   "cell_type": "code",
   "execution_count": 19,
   "id": "728f1510-5f76-4300-8018-0ccbeefd59bb",
   "metadata": {},
   "outputs": [],
   "source": [
    "# utility functions for use in demo notebooks\n",
    "from IPython.display import HTML\n",
    "\n",
    "# namespace\n",
    "class qsu:\n",
    "    @staticmethod\n",
    "    def print_pauli(pauli):\n",
    "        text = str(pauli)\n",
    "        text = text.replace('X', '<span style=\"color:red; font-weight:bold\">X</span>')\n",
    "        text = text.replace('Y', '<span style=\"color:magenta; font-weight:bold\">Y</span>')\n",
    "        text = text.replace('Z', '<span style=\"color:blue; font-weight:bold\">Z</span>')\n",
    "        display(HTML('<div class=\"highlight\"><pre style=\"line-height:1!important;\">{}</pre></div>'.format(text))) "
   ]
  },
  {
   "cell_type": "code",
   "execution_count": 21,
   "id": "bb6691a8-cd0f-43d9-90e3-ab254801752a",
   "metadata": {},
   "outputs": [
    {
     "data": {
      "text/html": [
       "<div class=\"highlight\"><pre style=\"line-height:1!important;\">error:\n",
       "┼─·─┼─<span style=\"color:magenta; font-weight:bold\">Y</span>─┼─·─┼─<span style=\"color:magenta; font-weight:bold\">Y</span>─┼─·─┼─·─┼─·\n",
       "·   ·   ·   ·   ·   ·   ·  \n",
       "┼─·─┼─·─┼─·─┼─·─┼─·─┼─·─┼─·\n",
       "·   ·   ·   ·   ·   ·   ·  \n",
       "┼─·─┼─·─┼─·─┼─·─┼─·─┼─·─┼─·\n",
       "·   ·   ·   ·   ·   ·   <span style=\"color:magenta; font-weight:bold\">Y</span>  \n",
       "┼─·─┼─·─┼─<span style=\"color:blue; font-weight:bold\">Z</span>─┼─<span style=\"color:magenta; font-weight:bold\">Y</span>─┼─·─┼─·─┼─·\n",
       "·   ·   ·   ·   ·   ·   ·  \n",
       "┼─·─┼─<span style=\"color:blue; font-weight:bold\">Z</span>─┼─·─┼─·─┼─·─┼─·─┼─·\n",
       "<span style=\"color:red; font-weight:bold\">X</span>   ·   ·   ·   ·   ·   ·  \n",
       "┼─<span style=\"color:red; font-weight:bold\">X</span>─┼─·─┼─·─┼─·─┼─·─┼─·─┼─·\n",
       "·   ·   ·   ·   ·   ·   ·  \n",
       "┼─·─┼─·─┼─·─┼─·─┼─·─┼─·─┼─·\n",
       "·   ·   ·   ·   ·   ·   ·  </pre></div>"
      ],
      "text/plain": [
       "<IPython.core.display.HTML object>"
      ]
     },
     "metadata": {},
     "output_type": "display_data"
    }
   ],
   "source": [
    "# set physical error probability to 10%\n",
    "error_probability = 0.1\n",
    "# seed random number generator for repeatability\n",
    "rng = np.random.default_rng(1)\n",
    "\n",
    "# error: random error based on error probability\n",
    "error = my_error_model.generate(my_code, error_probability, rng)\n",
    "qsu.print_pauli('error:\\n{}'.format(my_code.new_pauli(error)))"
   ]
  },
  {
   "cell_type": "code",
   "execution_count": 22,
   "id": "f963515c-e581-4caf-93e2-a39c955e2ec6",
   "metadata": {},
   "outputs": [
    {
     "data": {
      "text/html": [
       "<div class=\"highlight\"><pre style=\"line-height:1!important;\">syndrome:\n",
       "┼───<span style=\"color:red; font-weight:bold\">X</span>───<span style=\"color:red; font-weight:bold\">X</span>───<span style=\"color:red; font-weight:bold\">X</span>───<span style=\"color:red; font-weight:bold\">X</span>───┼───┼──\n",
       "│   │ <span style=\"color:blue; font-weight:bold\">Z</span> │   │ <span style=\"color:blue; font-weight:bold\">Z</span> │   │   │  \n",
       "┼───┼───┼───┼───┼───┼───┼──\n",
       "│   │   │   │   │   │   │  \n",
       "┼───┼───┼───┼───┼───┼───<span style=\"color:red; font-weight:bold\">X</span>──\n",
       "│   │   │   │ <span style=\"color:blue; font-weight:bold\">Z</span> │   │ <span style=\"color:blue; font-weight:bold\">Z</span> │ <span style=\"color:blue; font-weight:bold\">Z</span>\n",
       "┼───┼───<span style=\"color:red; font-weight:bold\">X</span>───┼───<span style=\"color:red; font-weight:bold\">X</span>───┼───<span style=\"color:red; font-weight:bold\">X</span>──\n",
       "│   │   │   │ <span style=\"color:blue; font-weight:bold\">Z</span> │   │   │  \n",
       "┼───<span style=\"color:red; font-weight:bold\">X</span>───<span style=\"color:red; font-weight:bold\">X</span>───┼───┼───┼───┼──\n",
       "│   │   │   │   │   │   │ <span style=\"color:blue; font-weight:bold\">Z</span>\n",
       "┼───┼───┼───┼───┼───┼───┼──\n",
       "│ <span style=\"color:blue; font-weight:bold\">Z</span> │   │   │   │   │   │  \n",
       "┼───┼───┼───┼───┼───┼───┼──\n",
       "│   │ <span style=\"color:blue; font-weight:bold\">Z</span> │   │ <span style=\"color:blue; font-weight:bold\">Z</span> │   │   │  </pre></div>"
      ],
      "text/plain": [
       "<IPython.core.display.HTML object>"
      ]
     },
     "metadata": {},
     "output_type": "display_data"
    }
   ],
   "source": [
    "# syndrome: stabilizers that do not commute with the error\n",
    "syndrome = pt.bsp(error, my_code.stabilizers.T)\n",
    "qsu.print_pauli('syndrome:\\n{}'.format(my_code.ascii_art(syndrome)))"
   ]
  },
  {
   "cell_type": "code",
   "execution_count": 23,
   "id": "6275b672-71bb-4a95-82d4-2923585876ec",
   "metadata": {},
   "outputs": [
    {
     "name": "stdout",
     "output_type": "stream",
     "text": [
      "[0 1 0 1 0 0 0 0 0 0 0 0 0 0 0 0 0 1 0 1 1 0 0 0 1 0 0 0 0 0 0 0 0 0 1 1 0\n",
      " 0 0 0 0 0 0 1 0 1 0 0 0 0 0 0 0 0 0 0 0 0 0 0 0 0 1 0 0 1 0 1 0 1 0 1 1 0\n",
      " 0 0 0 0 0 0 0 0 0 0 0 0 0 0 0 0 0 0 1 1 1 1 0 0]\n"
     ]
    }
   ],
   "source": [
    "print(syndrome)"
   ]
  },
  {
   "cell_type": "code",
   "execution_count": 24,
   "id": "215a0541-5e1f-4bed-9949-08c5f645c545",
   "metadata": {},
   "outputs": [
    {
     "data": {
      "text/html": [
       "<div class=\"highlight\"><pre style=\"line-height:1!important;\">recovery:\n",
       "┼─·─┼─<span style=\"color:magenta; font-weight:bold\">Y</span>─┼─·─┼─<span style=\"color:magenta; font-weight:bold\">Y</span>─┼─·─┼─·─┼─·\n",
       "·   ·   ·   ·   ·   ·   ·  \n",
       "┼─·─┼─·─┼─·─┼─·─┼─·─┼─·─┼─·\n",
       "·   ·   ·   ·   ·   ·   ·  \n",
       "┼─·─┼─·─┼─·─┼─·─┼─·─┼─·─┼─·\n",
       "·   ·   ·   ·   ·   ·   <span style=\"color:magenta; font-weight:bold\">Y</span>  \n",
       "┼─·─┼─·─┼─<span style=\"color:blue; font-weight:bold\">Z</span>─┼─<span style=\"color:magenta; font-weight:bold\">Y</span>─┼─·─┼─·─┼─·\n",
       "·   ·   ·   ·   ·   ·   ·  \n",
       "┼─·─┼─<span style=\"color:blue; font-weight:bold\">Z</span>─┼─·─┼─·─┼─·─┼─·─┼─·\n",
       "<span style=\"color:red; font-weight:bold\">X</span>   ·   ·   ·   ·   ·   ·  \n",
       "┼─<span style=\"color:red; font-weight:bold\">X</span>─┼─·─┼─·─┼─·─┼─·─┼─·─┼─·\n",
       "·   ·   ·   ·   ·   ·   ·  \n",
       "┼─·─┼─·─┼─·─┼─·─┼─·─┼─·─┼─·\n",
       "·   ·   ·   ·   ·   ·   ·  </pre></div>"
      ],
      "text/plain": [
       "<IPython.core.display.HTML object>"
      ]
     },
     "metadata": {},
     "output_type": "display_data"
    }
   ],
   "source": [
    "# recovery: best match recovery operation based on decoder\n",
    "recovery = my_decoder.decode(my_code, syndrome)\n",
    "qsu.print_pauli('recovery:\\n{}'.format(my_code.new_pauli(recovery)))"
   ]
  },
  {
   "cell_type": "code",
   "execution_count": 25,
   "id": "8d45a4db-c538-4221-bd07-b61817d02896",
   "metadata": {},
   "outputs": [
    {
     "name": "stdout",
     "output_type": "stream",
     "text": [
      "[0 0 0 0 0 0 0 0 0 0 0 0 0 0 0 0 0 0 0 0 0 0 0 0 0 0 0 0 0 0 0 0 0 0 0 0 0\n",
      " 0 0 0 0 0 0 0 0 0 0 0 0 0 0 0 0 0 0 0 0 0 0 0 0 0 0 0 0 0 0 0 0 0 0 0 0 0\n",
      " 0 0 0 0 0 0 0 0 0 0 0 0 0 0 0 0 0 0 0 0 0 0 0 0]\n"
     ]
    }
   ],
   "source": [
    "# check recovery ^ error commutes with stabilizers (by construction)\n",
    "print(pt.bsp(recovery ^ error, my_code.stabilizers.T))"
   ]
  },
  {
   "cell_type": "code",
   "execution_count": 26,
   "id": "33b4ec35-98ff-47de-b3c3-956a43d715e7",
   "metadata": {},
   "outputs": [
    {
     "data": {
      "text/html": [
       "<div class=\"highlight\"><pre style=\"line-height:1!important;\">recovery ^ error:\n",
       "┼─·─┼─·─┼─·─┼─·─┼─·─┼─·─┼─·\n",
       "·   ·   ·   ·   ·   ·   ·  \n",
       "┼─·─┼─·─┼─·─┼─·─┼─·─┼─·─┼─·\n",
       "·   ·   ·   ·   ·   ·   ·  \n",
       "┼─·─┼─·─┼─·─┼─·─┼─·─┼─·─┼─·\n",
       "·   ·   ·   ·   ·   ·   ·  \n",
       "┼─·─┼─·─┼─·─┼─·─┼─·─┼─·─┼─·\n",
       "·   ·   ·   ·   ·   ·   ·  \n",
       "┼─·─┼─·─┼─·─┼─·─┼─·─┼─·─┼─·\n",
       "·   ·   ·   ·   ·   ·   ·  \n",
       "┼─·─┼─·─┼─·─┼─·─┼─·─┼─·─┼─·\n",
       "·   ·   ·   ·   ·   ·   ·  \n",
       "┼─·─┼─·─┼─·─┼─·─┼─·─┼─·─┼─·\n",
       "·   ·   ·   ·   ·   ·   ·  </pre></div>"
      ],
      "text/plain": [
       "<IPython.core.display.HTML object>"
      ]
     },
     "metadata": {},
     "output_type": "display_data"
    }
   ],
   "source": [
    "# print recovery ^ error (out of curiosity)\n",
    "qsu.print_pauli('recovery ^ error:\\n{}'.format(my_code.new_pauli(recovery ^ error)))\n"
   ]
  },
  {
   "cell_type": "code",
   "execution_count": 27,
   "id": "24edc489-e98d-4e72-a275-043325a8e116",
   "metadata": {},
   "outputs": [
    {
     "name": "stdout",
     "output_type": "stream",
     "text": [
      "[0 0 0 0]\n"
     ]
    }
   ],
   "source": [
    "# success iff recovery ^ error commutes with logicals\n",
    "print(pt.bsp(recovery ^ error, my_code.logicals.T))"
   ]
  },
  {
   "cell_type": "code",
   "execution_count": 9,
   "id": "f66235a7-7805-4689-ba24-e0f312e4d598",
   "metadata": {},
   "outputs": [
    {
     "name": "stdout",
     "output_type": "stream",
     "text": [
      "{'error_weight': 11, 'success': True, 'logical_commutations': array([0, 0, 0, 0]), 'custom_values': None}\n"
     ]
    }
   ],
   "source": [
    "# repeat demo in single call\n",
    "from qecsim import app\n",
    "print(app.run_once(my_code, my_error_model, my_decoder, error_probability=0.15))"
   ]
  },
  {
   "cell_type": "code",
   "execution_count": null,
   "id": "5518a314-4109-4f7a-9c1a-b7399bc70872",
   "metadata": {},
   "outputs": [],
   "source": []
  }
 ],
 "metadata": {
  "kernelspec": {
   "display_name": "Python 3",
   "language": "python",
   "name": "python3"
  },
  "language_info": {
   "codemirror_mode": {
    "name": "ipython",
    "version": 3
   },
   "file_extension": ".py",
   "mimetype": "text/x-python",
   "name": "python",
   "nbconvert_exporter": "python",
   "pygments_lexer": "ipython3",
   "version": "3.9.5"
  }
 },
 "nbformat": 4,
 "nbformat_minor": 5
}
