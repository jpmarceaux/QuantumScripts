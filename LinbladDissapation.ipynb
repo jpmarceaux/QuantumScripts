{
 "cells": [
  {
   "cell_type": "markdown",
   "metadata": {},
   "source": [
    "# Linblad Dissapation\n",
    "\n",
    "This code demonstrates the effects various Linblad dissapation operators can have on the evolution of a quantum state\n",
    "\n",
    "This code works by simulating the evolution of an input pure state subject to a driving Hamiltonian and the effects of various dissapators. We are given control over the parameters of the input pure state, the time length of the evolution, the graining of the simulation, the parameters of the Hamiltonian, and the various dissapator amplitudes. We make use of qutip's mesolve for the purpose of simiulation.\n",
    "\n",
    "To operate the code, run all the scripts in a juypter notebook, adjust the degrees of freedom with the slider bars, and press Run Interact to observe the output"
   ]
  },
  {
   "cell_type": "markdown",
   "metadata": {},
   "source": [
    "Mathematical Description\n",
    "===\n",
    "\n",
    "The general Linblad equation is\n",
    "$$ \\frac{d}{dt} \\rho(t) = -i [H, \\rho] + \\sum_j \\gamma_j \\bigg( A_j \\rho A_j^\\dagger - \\frac{1}{2} \\Big\\{ A_j^\\dagger A_j, \\rho \\Big\\} \\bigg) $$\n",
    "$$  = -i [H, \\rho] + \\gamma \\mathcal{L}_D[\\rho] $$\n",
    "\n",
    "$\\mathcal{L}_D[\\rho]$ is the \"Linblad contribution\" or the \"total dissapator\". Each $A_j$ is a \"disspator\" or \"Linblad operator.\" $\\gamma_j$ is a real amplitude associated with the contribution of the dissapator indexed by $j$ to the total dissapator. The $\\gamma_j$'s may be called \"dissapator amplitudes.\" \n",
    "\n",
    "*The Hamiltonian used in this code is:*\n",
    "$$ H = w \\mathbb{1} + \\vec{v} \\cdot \\vec{\\sigma} $$\n",
    "\n",
    "*The dissapators used in the code are:*\n",
    "\n",
    "$|0\\rangle \\langle 1| = \\sigma^- = (X + i Y)/2$. Acts like amplitude damping\n",
    "\n",
    "$\\sigma^+$. Acts like amplitude ramping\n",
    "\n",
    "$|0 \\rangle \\langle 0| = (\\mathbb{1}+Z)/2$ \"Zero projection operator\"\n",
    "\n",
    "$|1 \\rangle \\langle 1| = (\\mathbb{1}-Z)/2$ \"One projection operator\"\n",
    "\n",
    "$X$\n",
    "\n",
    "$Y$\n",
    "\n",
    "$Z$\n"
   ]
  },
  {
   "cell_type": "code",
   "execution_count": 6,
   "metadata": {},
   "outputs": [],
   "source": [
    "import numpy as np\n",
    "import qutip as qt\n",
    "import matplotlib as mpl\n",
    "import matplotlib.pyplot as plt\n",
    "from matplotlib import cm\n",
    "from mpl_toolkits.mplot3d import Axes3D\n",
    "from ipywidgets import interact, interactive, fixed, interact_manual, FloatSlider\n",
    "import ipywidgets as widgets\n",
    "import mayavi\n",
    "%matplotlib inline"
   ]
  },
  {
   "cell_type": "code",
   "execution_count": 7,
   "metadata": {},
   "outputs": [],
   "source": [
    "def SolveAndPlot(alpha, phi, w, vx, vy, vz, T, DeltaT, AmpDamp, AmpRamp, Proj0, Proj1, SX, SY, SZ):\n",
    "    \"\"\"\n",
    "    Function wrapper of the code used for animation\n",
    "    \"\"\"\n",
    "    # time vector\n",
    "    tvec = np.linspace(0, T, DeltaT)\n",
    "    \n",
    "    # calculate \\psi_0\n",
    "    beta = np.sqrt(1-alpha**2)\n",
    "    psi0 = alpha*qt.basis(2,0) + beta*np.exp(-1j*2*np.pi*phi/360)*qt.basis(2,1)\n",
    "    \n",
    "    # define Linblad operators \n",
    "    Lops = [ \n",
    "        AmpDamp*qt.destroy(2),                   \n",
    "        AmpRamp*qt.create(2),                    \n",
    "        Proj0*(qt.qeye(2)+qt.sigmaz())/2,\n",
    "        Proj1*(qt.qeye(2)-qt.sigmaz())/2,    \n",
    "        SX*qt.sigmax(),                     \n",
    "        SY*qt.sigmay(),                   \n",
    "        SZ*qt.sigmaz()                      \n",
    "        ]\n",
    "    \n",
    "    \n",
    "    \n",
    "    # calculate H\n",
    "    H = w*qt.qeye(2) + vx*qt.sigmax() + vy*qt.sigmay() + vz*qt.sigmaz() \n",
    "    \n",
    "    # solve\n",
    "    ExpVec = qt.mesolve(H, psi0, tvec, Lops, [qt.sigmax(), qt.sigmay(), qt.sigmaz()])\n",
    "    PsiVec = qt.mesolve(H, psi0, tvec, Lops, [])\n",
    "    \n",
    "    # plot\n",
    "    fig, ax = plt.subplots()\n",
    "    ax.plot(ExpVec.expect[0]);\n",
    "    ax.plot(ExpVec.expect[1]);\n",
    "    ax.plot(ExpVec.expect[2]);\n",
    "    ax.set_xlabel('Time');\n",
    "    ax.set_ylabel('Expectation values');\n",
    "    ax.legend((\"Sigma-X\", \"Sigma-Y\", \"Sigma-Z\"));\n",
    "    # ax.set_box_aspect((1, 1, 1)) \n",
    "    # ax = a3.Axes3D(plt.figure(figsize=(15,15))) \n",
    "    plt.show(fig)\n",
    "\n",
    "    # Bloch plots \n",
    "    b = qt.Bloch()\n",
    "    nrm = mpl.colors.Normalize(0,T)\n",
    "    colors = cm.cool(nrm(tvec))\n",
    "    b.vector_color = list(colors)\n",
    "    for s in PsiVec.states:\n",
    "        b.add_states(s)\n",
    "    b.show()"
   ]
  },
  {
   "cell_type": "code",
   "execution_count": 9,
   "metadata": {},
   "outputs": [
    {
     "data": {
      "application/vnd.jupyter.widget-view+json": {
       "model_id": "76b997f67bdc4f059229fce5824fcffe",
       "version_major": 2,
       "version_minor": 0
      },
      "text/plain": [
       "interactive(children=(FloatSlider(value=0.0, description='alpha', max=1.0, step=0.05), FloatSlider(value=0.0, …"
      ]
     },
     "metadata": {},
     "output_type": "display_data"
    },
    {
     "data": {
      "text/plain": [
       "<function __main__.SolveAndPlot(alpha, phi, w, vx, vy, vz, T, DeltaT, AmpDamp, AmpRamp, Proj0, Proj1, SX, SY, SZ)>"
      ]
     },
     "execution_count": 9,
     "metadata": {},
     "output_type": "execute_result"
    }
   ],
   "source": [
    "Alpha = FloatSlider(min=0, max=1, step=0.05)\n",
    "Phi = FloatSlider(min=0, max=360, step=1)\n",
    "W = FloatSlider(min=0, max=10, step=0.5)\n",
    "Vx = FloatSlider(min=0, max=10, step=0.5)\n",
    "Vy = FloatSlider(min=0, max=10, step=0.5)\n",
    "Vz = FloatSlider(min=0, max=10, step=0.5)\n",
    "Ts = FloatSlider(min=1, max=100, step=1)\n",
    "DeltaTs = FloatSlider(min=1, max=400, step=1)\n",
    "ampdamp = FloatSlider(min=0, max=1, step=0.05)\n",
    "ampramp = FloatSlider(min=0, max=1, step=0.05)\n",
    "proj0 = FloatSlider(min=0, max=1, step=0.05)\n",
    "proj1 = FloatSlider(min=0, max=1, step=0.05)\n",
    "sX = FloatSlider(min=0, max=1, step=0.05)\n",
    "sY = FloatSlider(min=0, max=1, step=0.05)\n",
    "sZ = FloatSlider(min=0, max=1, step=0.05)\n",
    "interact_manual(SolveAndPlot, alpha=Alpha, phi=Phi, w=W, vx=Vx, vy=Vy, vz=Vz, T=Ts, DeltaT=DeltaTs, AmpDamp=ampdamp, AmpRamp=ampramp, Proj0=proj0, Proj1=proj1, SX=sX, SY=sY, SZ=sZ)"
   ]
  },
  {
   "cell_type": "code",
   "execution_count": null,
   "metadata": {},
   "outputs": [],
   "source": []
  },
  {
   "cell_type": "code",
   "execution_count": null,
   "metadata": {},
   "outputs": [],
   "source": []
  },
  {
   "cell_type": "code",
   "execution_count": null,
   "metadata": {},
   "outputs": [],
   "source": []
  }
 ],
 "metadata": {
  "kernelspec": {
   "display_name": "Python 3",
   "language": "python",
   "name": "python3"
  },
  "language_info": {
   "codemirror_mode": {
    "name": "ipython",
    "version": 3
   },
   "file_extension": ".py",
   "mimetype": "text/x-python",
   "name": "python",
   "nbconvert_exporter": "python",
   "pygments_lexer": "ipython3",
   "version": "3.8.5"
  }
 },
 "nbformat": 4,
 "nbformat_minor": 4
}
