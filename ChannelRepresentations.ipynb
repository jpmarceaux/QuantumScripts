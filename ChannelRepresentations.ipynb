{
 "cells": [
  {
   "cell_type": "code",
   "execution_count": 1,
   "metadata": {},
   "outputs": [],
   "source": [
    "import numpy as np\n",
    "import math\n",
    "import qutip as qt\n",
    "import matplotlib as mpl\n",
    "import matplotlib.pyplot as plt\n",
    "from matplotlib import cm\n",
    "from mpl_toolkits.mplot3d import Axes3D\n",
    "from ipywidgets import interact, interactive, fixed, interact_manual, FloatSlider\n",
    "import ipywidgets as widgets\n",
    "import mayavi\n",
    "%matplotlib inline"
   ]
  },
  {
   "cell_type": "markdown",
   "metadata": {},
   "source": [
    "# Partial Trace \n",
    "\n",
    "We seek to defin square matrix $M \\in L(\\mathcal{X}_1 \\otimes \\mathcal{X}_2 \\otimes ... \\otimes \\mathcal{X}_n)$ can be written \n",
    "$$\n",
    "    M = \\sum_{a_1, a_2, ..., a_n} \n",
    "$$"
   ]
  },
  {
   "cell_type": "code",
   "execution_count": null,
   "metadata": {},
   "outputs": [],
   "source": [
    "def PartialTrace(Mat, DimList, IndexList):\n",
    "    \"\"\"\n",
    "    Calculates the partial trace of Mat \n",
    "    \n",
    "    \"\"\""
   ]
  },
  {
   "cell_type": "markdown",
   "metadata": {},
   "source": [
    "# Channel definition"
   ]
  },
  {
   "cell_type": "markdown",
   "metadata": {},
   "source": [
    "# Types of channel representations\n",
    "\n",
    "Given a channel $\\Phi$ acting on square operators $X \\in L(\\mathcal{X})$ and outputing $Y \\in L(\\mathcal{Y})$, we may define four types of representations:\n",
    "\n",
    "Natural representation: the matrix $K(\\Phi) \\in L(\\mathcal{X}^2, \\mathcal{Y}^2)$ for which\n",
    "$$\n",
    "   K(\\Phi) \\text{vec}(X) = \\text{vec}( \\Phi(X) )\n",
    "$$\n",
    "\n",
    "Operator-sum representation (Kraus): an operator set $\\{A_\\alpha : \\alpha \\in \\Sigma \\}$ of $A_a \\in L(\\mathcal{X}, \\mathcal{Y})$ such that. \n",
    "$$\n",
    "    \\Phi(X) = \\sum_{a \\in \\Sigma} A_a X A_a^\\dagger\n",
    "$$\n",
    "\n",
    "Partial-trace representation (Stinespring): a rectangular isometry $A \\in L(\\mathcal{X}, \\mathcal{Y} \\otimes \\mathcal{Z})$\n",
    "$$\n",
    "    \\Phi(X) = \\text{Tr}_{\\mathcal{Z}}( A X A^\\dagger). \n",
    "$$\n",
    "\n",
    "Dual-state representation (Choi-Jamiolkowski): Choi matrix $J(\\Phi) \\in L(\\mathcal{X}^2, \\mathcal{Y}^2)$ \n",
    "$$\n",
    "    J(\\Phi) = \\sum_{a, b \\in \\Sigma} |a\\rangle \\langle b | \\otimes  \\Phi( |a\\rangle \\langle b | )  \n",
    "$$\n",
    "(this is a right-handed Choi matrix)\n",
    "\n",
    "---\n",
    "\n",
    "Remarks: \n",
    "\n",
    "In the following, we assume $\\Phi$ to be completely positive and trace-preserving. \n",
    "\n",
    "---"
   ]
  },
  {
   "cell_type": "markdown",
   "metadata": {},
   "source": [
    "# From channel to Choi\n",
    "\n",
    "To determine the choi matrix, we need to calculate $\\Phi(e_{a, b})$ for all pairs $(a, b)$. The key equations are \n",
    "$$\n",
    "    \\Phi( e_{a, b} ) = \\text{mat}( K(\\Phi) |a \\rangle | b \\rangle )\n",
    "$$\n",
    "and\n",
    "$$\n",
    "    J(\\Phi) = \\sum_{a, b} e_{a, b} \\otimes \\Phi(e_{a, b})\n",
    "$$"
   ]
  },
  {
   "cell_type": "code",
   "execution_count": 2,
   "metadata": {},
   "outputs": [],
   "source": [
    "def PMat_to_Choi(PMat):\n",
    "    \"\"\"\n",
    "    PMat_to_Choi : ProcessMatrix -> ChoiMatrix \n",
    "    \n",
    "    takes as input an d^2 x d^2 process matrix and outputs a choi matrix. \n",
    "    \n",
    "    we assume here the right-handed Choi representation\n",
    "    \"\"\"\n",
    "    shape = PMat.shape\n",
    "    BasisOutputs = []\n",
    "    \n",
    "    dim = np.sqrt(shape[0])\n",
    "    # verify that the dimensions of PMat are square numbers\n",
    "    if(abs(int(dim) - dim) > 0.0001):\n",
    "        print(\"ERROR: PMat dims are not square!\")\n",
    "    dim = int(dim)\n",
    "    \n",
    "    # convert each row of PMat into a dxd matrix\n",
    "    for r in range(shape[0]):\n",
    "        row = PMat[r]\n",
    "        mat = row.reshape((dim, dim))\n",
    "        BasisOutputs.append(mat)\n",
    "    \n",
    "    # arrange the basis outputs into a 2d list \n",
    "    ChoiSet = []\n",
    "    for d1 in range(dim):\n",
    "        ChoiSet.append([])\n",
    "        for d2 in range(dim):\n",
    "            ChoiSet[d1].append( BasisOutputs[d1*dim+d2] )            \n",
    "        \n",
    "    # construct block matrix J(Phi)\n",
    "    ChoiMat = np.block(ChoiSet)\n",
    "    return ChoiMat"
   ]
  },
  {
   "cell_type": "markdown",
   "metadata": {},
   "source": [
    "# From Choi to Kraus\n",
    "\n",
    "The relevent equations are \n",
    "\n",
    "$$\n",
    "    J(\\Phi) = \\sum_{a \\in \\Sigma} \\text{vec}( A_a ) \\text{vec}( A_a )^\\dagger\n",
    "$$\n",
    "\n",
    "and \n",
    "\n",
    "$$\n",
    "    J(\\Phi) = S \\Lambda S^\\dagger = \\sum_{a = 1}^{\\text{rank}(J)} \\lambda_a S |a \\rangle \\langle a| S^\\dagger.\n",
    "$$\n",
    "\n",
    "So, \n",
    "$$\n",
    "    A_a = \\text{mat}(\\sqrt{\\lambda} S |a \\rangle )\n",
    "$$"
   ]
  },
  {
   "cell_type": "code",
   "execution_count": 3,
   "metadata": {},
   "outputs": [],
   "source": [
    "def matrize(vector, epsilon=1e-4):\n",
    "    dim = math.sqrt(vector.size)\n",
    "    if( abs(dim - int(dim)) > epsilon):\n",
    "        print(\"ERROR! in matrize(vector); length is not a square number\")\n",
    "    dim = int(dim)\n",
    "    \n",
    "    arry = []\n",
    "    for d1 in range(dim):\n",
    "        arry.append([])\n",
    "        for d2 in range(dim):\n",
    "            arry[d1].append(vector[d1*dim+d2])\n",
    "    return np.array(arry)"
   ]
  },
  {
   "cell_type": "code",
   "execution_count": 4,
   "metadata": {},
   "outputs": [],
   "source": [
    "def Choi_to_Kraus(ChoiMat):\n",
    "    Lambda, Smat = np.linalg.eig(ChoiMat)\n",
    "    # take transpose of Smat so we are getting eigenvectors; \n",
    "    # (transpose of unitary matrix is still unitary)\n",
    "    # see https://numpy.org/doc/stable/reference/generated/numpy.linalg.eig.html\n",
    "    Smat = Smat.transpose()\n",
    "    \n",
    "    KrausSet = []\n",
    "    for idx, l in enumerate(Lambda):\n",
    "        svec = Smat[idx]\n",
    "        lam = math.sqrt(l)\n",
    "        kvec = lam*svec\n",
    "        KrausSet.append(matrize(kvec))\n",
    "    return KrausSet"
   ]
  },
  {
   "cell_type": "markdown",
   "metadata": {},
   "source": [
    "# From Kraus to Choi\n",
    "\n",
    "Given a Kraus set $\\{A_a: a \\in \\Sigma\\}$, the natural representation is \n",
    "\n",
    "$$\n",
    "    K(\\Phi) = \\sum_{a \\in \\Sigma} A_a \\otimes A_a^*. \n",
    "$$"
   ]
  },
  {
   "cell_type": "code",
   "execution_count": 5,
   "metadata": {},
   "outputs": [],
   "source": [
    "def Kraus_to_Nat(KrausSet):\n",
    "    K = 0\n",
    "    for A in KrausSet:\n",
    "        K += np.kron( A, np.conjugate(A) )\n",
    "    return K"
   ]
  },
  {
   "cell_type": "markdown",
   "metadata": {},
   "source": [
    "# From Kraus to Stinespring\n",
    "\n",
    "Given a Kraus set $\\{A_a: a \\in \\Sigma\\}$, the Steinspring representation is \n",
    "$$\n",
    "    A = \\sum_{a \\in \\Sigma} |a \\rangle \\langle a| \\otimes A_a. \n",
    "$$"
   ]
  },
  {
   "cell_type": "code",
   "execution_count": 6,
   "metadata": {},
   "outputs": [],
   "source": [
    "def Kraus_to_Stine(Kset):\n",
    "    A = 0\n",
    "    L = len(Kset)\n",
    "    for idx, K in enumerate(Kset):\n",
    "        T = np.zeros((L,L))\n",
    "        T[idx, idx] = 1\n",
    "        A += np.kron(T, K)\n",
    "    return A"
   ]
  },
  {
   "cell_type": "markdown",
   "metadata": {},
   "source": [
    "# From Stinespring to Kraus\n",
    "\n",
    "Given a Stinespring dilation $A$ any Kraus operator is given as \n",
    "$$\n",
    "    A_a = \\text{Tr}_{\\mathcal{Z}}( A (|a \\rangle \\langle a| \\otimes \\mathbb{1} ) \n",
    "$$"
   ]
  },
  {
   "cell_type": "code",
   "execution_count": null,
   "metadata": {},
   "outputs": [],
   "source": []
  },
  {
   "cell_type": "code",
   "execution_count": 8,
   "metadata": {
    "scrolled": true
   },
   "outputs": [
    {
     "name": "stdout",
     "output_type": "stream",
     "text": [
      "Natural Input:\n",
      "\n",
      "[[1. 0. 0. 0.]\n",
      " [0. 1. 0. 0.]\n",
      " [0. 0. 1. 0.]\n",
      " [0. 0. 0. 1.]]\n",
      "\n",
      "\n",
      " Natural:\n",
      "\n",
      "[[1. 0. 0. 0.]\n",
      " [0. 1. 0. 0.]\n",
      " [0. 0. 1. 0.]\n",
      " [0. 0. 0. 1.]]\n",
      "\n",
      "\n",
      " Choi:\n",
      "\n",
      "[[1. 0. 0. 1.]\n",
      " [0. 0. 0. 0.]\n",
      " [0. 0. 0. 0.]\n",
      " [1. 0. 0. 1.]]\n",
      "\n",
      "\n",
      " Kraus:\n",
      "\n",
      "[array([[1., 0.],\n",
      "       [0., 1.]]), array([[-0.,  0.],\n",
      "       [ 0.,  0.]]), array([[0., 0.],\n",
      "       [0., 0.]]), array([[0., 0.],\n",
      "       [0., 0.]])]\n",
      "\n",
      "\n",
      " Stinespring:\n",
      "\n",
      "[[1. 0. 0. 0. 0. 0. 0. 0.]\n",
      " [0. 1. 0. 0. 0. 0. 0. 0.]\n",
      " [0. 0. 0. 0. 0. 0. 0. 0.]\n",
      " [0. 0. 0. 0. 0. 0. 0. 0.]\n",
      " [0. 0. 0. 0. 0. 0. 0. 0.]\n",
      " [0. 0. 0. 0. 0. 0. 0. 0.]\n",
      " [0. 0. 0. 0. 0. 0. 0. 0.]\n",
      " [0. 0. 0. 0. 0. 0. 0. 0.]]\n"
     ]
    }
   ],
   "source": [
    "M = np.eye(4)\n",
    "Choi = PMat_to_Choi(M)\n",
    "Kraus = Choi_to_Kraus(Choi)\n",
    "Nat = Kraus_to_Nat(Kraus)\n",
    "Stine = Kraus_to_Stine(Kraus)\n",
    "print(\"Natural Input:\\n\")\n",
    "print(M)\n",
    "print(\"\\n\\n Natural:\\n\")\n",
    "print(Nat)\n",
    "print(\"\\n\\n Choi:\\n\")\n",
    "print(Choi)\n",
    "print(\"\\n\\n Kraus:\\n\")\n",
    "print(Kraus)\n",
    "print(\"\\n\\n Stinespring:\\n\")\n",
    "print(Stine)"
   ]
  },
  {
   "cell_type": "code",
   "execution_count": null,
   "metadata": {},
   "outputs": [],
   "source": [
    "K = [[1, 0]]"
   ]
  },
  {
   "cell_type": "code",
   "execution_count": null,
   "metadata": {},
   "outputs": [],
   "source": []
  }
 ],
 "metadata": {
  "kernelspec": {
   "display_name": "Python 3",
   "language": "python",
   "name": "python3"
  },
  "language_info": {
   "codemirror_mode": {
    "name": "ipython",
    "version": 3
   },
   "file_extension": ".py",
   "mimetype": "text/x-python",
   "name": "python",
   "nbconvert_exporter": "python",
   "pygments_lexer": "ipython3",
   "version": "3.8.5"
  }
 },
 "nbformat": 4,
 "nbformat_minor": 4
}
